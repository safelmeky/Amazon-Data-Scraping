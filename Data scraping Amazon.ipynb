{
 "cells": [
  {
   "cell_type": "code",
   "execution_count": 1,
   "metadata": {},
   "outputs": [],
   "source": [
    "# Importing libraries\n",
    "from bs4 import BeautifulSoup\n",
    "import requests \n",
    "import smtplib # This library for sending Emails to my self \n",
    "import time \n",
    "import datetime \n"
   ]
  },
  {
   "cell_type": "code",
   "execution_count": 9,
   "metadata": {},
   "outputs": [
    {
     "name": "stdout",
     "output_type": "stream",
     "text": [
      "CSV file saved on the desktop.\n"
     ]
    }
   ],
   "source": [
    "\n",
    "\n",
    "# Connect to the web and send a GET request to the URL\n",
    "URL = 'https://www.amazon.ae/Trust-engineer-save-time-Mug/dp/B07N6P1XC9/ref=sr_1_1?crid=35TL7DOU0NKX9&dib=eyJ2IjoiMSJ9.jNOkticQrzVZaT1LRLvEiq4ySgEfKW7aZ5uNE2v0LIOu_QH2T6QcgSm14yzc67pODZfTaHq5meUvzzy-IBgF1MF-6bxNufpGdar10NWIndYDM0-6L6FbtT-qIYK69qe3bWuVLCmRlwXQwOWl6WaLzJlc-g2IX9HlSv-xsoarcLjYuM2BIY9_sHp9goTGZQUXLXjigWtnAs8mcrR8N7itB_F1m_mJomMr-20si0U8grgd0twmkr4GOiJEL-cqXhW1lJl5Z2bBpUKKexZHl1O9SKg_aKzDaL4jxy15RRm2bCs.8INO3lJwzDaE4FjeSmvHNu-PNJtcaD7AqPD3sMdVKA8&dib_tag=se&keywords=mug+amazon+data&qid=1709186718&sprefix=mug+amazon+data%2Caps%2C343&sr=8-1'\n",
    "headers = {\n",
    "    \"User-Agent\": \"Mozilla/5.0 (Windows NT 10.0; Win64; x64) AppleWebKit/537.36 (KHTML, like Gecko) Chrome/78.0.3904.108 Safari/537.36\",\n",
    "    \"Accept-Encoding\": \"gzip, deflate\",\n",
    "    \"Accept\": \"text/html,application/xhtml+xml,application/xml;q=0.9,*/*;q=0.8\",\n",
    "    \"DNT\": \"1\",\n",
    "    \"Connection\": \"close\",\n",
    "    \"Upgrade-Insecure-Requests\": \"1\"\n",
    "}\n",
    "\n",
    "try:\n",
    "    response = requests.get(URL, headers=headers)\n",
    "    response.raise_for_status()  # Raise an exception for any HTTP errors\n",
    "    \n",
    "    # Extract HTML content\n",
    "    soup = BeautifulSoup(response.content, \"html.parser\")\n",
    "    \n",
    "    # Extract title and price\n",
    "    title = soup.find(id='productTitle').get_text().strip()\n",
    "    price = soup.find(class_='aok-offscreen').get_text().strip()\n",
    "    \n",
    "    print(\"Title:\", title)\n",
    "    print(\"Price:\", price)\n",
    "    \n",
    "except requests.exceptions.RequestException as e:\n",
    "    print(\"Failed to connect to the URL:\", e)\n",
    "    \n",
    "except AttributeError as e:\n",
    "    print(\"Failed to extract data from the HTML:\", e)\n"
   ]
  },
  {
   "cell_type": "code",
   "execution_count": 23,
   "metadata": {},
   "outputs": [],
   "source": [
    "      # Data cleaning\n",
    "      price=15.75# strip() removes all the white spaces [4:] means remove the first 3 letters which are (AED and the space after it ) so now we have the price naked \n",
    "      title=title.strip()# be cearfull the strip could remove the spaces in the sentence itself."
   ]
  },
  {
   "cell_type": "code",
   "execution_count": 24,
   "metadata": {},
   "outputs": [],
   "source": [
    "# extracting more data to make a wider DATA frame\n",
    "\n",
    "collecting_date =datetime.date.today()"
   ]
  },
  {
   "cell_type": "code",
   "execution_count": 25,
   "metadata": {},
   "outputs": [
    {
     "name": "stdout",
     "output_type": "stream",
     "text": [
      "CSV file saved on the desktop.\n"
     ]
    }
   ],
   "source": [
    "# EXPORTIG DATA into CSV\n",
    "import csv\n",
    "import os\n",
    "\n",
    "header = ['title', 'price','collecting_date']\n",
    "data=[title,price,collecting_date]\n",
    "\n",
    "desktop_path = os.path.join(os.path.expanduser('~'), 'Desktop')# saving in desktop\n",
    "file_path = os.path.join(desktop_path, 'AmazonMug.csv')\n",
    "\n",
    "# Write data to the CSV file\n",
    "with open(file_path, 'w', newline='', encoding='utf-8') as f:\n",
    "    writer = csv.writer(f)\n",
    "    writer.writerow(header)\n",
    "    writer.writerow(data)\n",
    "\n",
    "print(\"CSV file saved on the desktop.\")"
   ]
  },
  {
   "cell_type": "code",
   "execution_count": 38,
   "metadata": {},
   "outputs": [
    {
     "data": {
      "text/html": [
       "<div>\n",
       "<style scoped>\n",
       "    .dataframe tbody tr th:only-of-type {\n",
       "        vertical-align: middle;\n",
       "    }\n",
       "\n",
       "    .dataframe tbody tr th {\n",
       "        vertical-align: top;\n",
       "    }\n",
       "\n",
       "    .dataframe thead th {\n",
       "        text-align: right;\n",
       "    }\n",
       "</style>\n",
       "<table border=\"1\" class=\"dataframe\">\n",
       "  <thead>\n",
       "    <tr style=\"text-align: right;\">\n",
       "      <th></th>\n",
       "      <th>title</th>\n",
       "      <th>price</th>\n",
       "      <th>collecting_date</th>\n",
       "    </tr>\n",
       "  </thead>\n",
       "  <tbody>\n",
       "    <tr>\n",
       "      <th>0</th>\n",
       "      <td>Trust me I m an engineer To save time Mug</td>\n",
       "      <td>15.75</td>\n",
       "      <td>2024-03-05</td>\n",
       "    </tr>\n",
       "    <tr>\n",
       "      <th>1</th>\n",
       "      <td>Trust me I m an engineer To save time Mug</td>\n",
       "      <td>15.75</td>\n",
       "      <td>2024-03-05</td>\n",
       "    </tr>\n",
       "    <tr>\n",
       "      <th>2</th>\n",
       "      <td>Trust me I m an engineer To save time Mug</td>\n",
       "      <td>15.75</td>\n",
       "      <td>2024-03-05</td>\n",
       "    </tr>\n",
       "    <tr>\n",
       "      <th>3</th>\n",
       "      <td>Trust me I m an engineer To save time Mug</td>\n",
       "      <td>15.75</td>\n",
       "      <td>2024-03-05</td>\n",
       "    </tr>\n",
       "    <tr>\n",
       "      <th>4</th>\n",
       "      <td>Trust me I m an engineer To save time Mug</td>\n",
       "      <td>15.75</td>\n",
       "      <td>2024-03-05</td>\n",
       "    </tr>\n",
       "    <tr>\n",
       "      <th>5</th>\n",
       "      <td>Trust me I m an engineer To save time Mug</td>\n",
       "      <td>15.75</td>\n",
       "      <td>2024-03-05</td>\n",
       "    </tr>\n",
       "    <tr>\n",
       "      <th>6</th>\n",
       "      <td>Trust me I m an engineer To save time Mug</td>\n",
       "      <td>15.75</td>\n",
       "      <td>2024-03-05</td>\n",
       "    </tr>\n",
       "    <tr>\n",
       "      <th>7</th>\n",
       "      <td>Trust me I m an engineer To save time Mug</td>\n",
       "      <td>15.75</td>\n",
       "      <td>2024-03-05</td>\n",
       "    </tr>\n",
       "    <tr>\n",
       "      <th>8</th>\n",
       "      <td>Trust me I m an engineer To save time Mug</td>\n",
       "      <td>15.75</td>\n",
       "      <td>2024-03-05</td>\n",
       "    </tr>\n",
       "    <tr>\n",
       "      <th>9</th>\n",
       "      <td>Trust me I m an engineer To save time Mug</td>\n",
       "      <td>15.75</td>\n",
       "      <td>2024-03-05</td>\n",
       "    </tr>\n",
       "  </tbody>\n",
       "</table>\n",
       "</div>"
      ],
      "text/plain": [
       "                                       title  price collecting_date\n",
       "0  Trust me I m an engineer To save time Mug  15.75      2024-03-05\n",
       "1  Trust me I m an engineer To save time Mug  15.75      2024-03-05\n",
       "2  Trust me I m an engineer To save time Mug  15.75      2024-03-05\n",
       "3  Trust me I m an engineer To save time Mug  15.75      2024-03-05\n",
       "4  Trust me I m an engineer To save time Mug  15.75      2024-03-05\n",
       "5  Trust me I m an engineer To save time Mug  15.75      2024-03-05\n",
       "6  Trust me I m an engineer To save time Mug  15.75      2024-03-05\n",
       "7  Trust me I m an engineer To save time Mug  15.75      2024-03-05\n",
       "8  Trust me I m an engineer To save time Mug  15.75      2024-03-05\n",
       "9  Trust me I m an engineer To save time Mug  15.75      2024-03-05"
      ]
     },
     "execution_count": 38,
     "metadata": {},
     "output_type": "execute_result"
    }
   ],
   "source": [
    "# we will open the csv file on the nootbook using pandas insted of closing it every time we want to save a new update on the csv\n",
    "\n",
    "import pandas as pd\n",
    "\n",
    "df=pd.read_csv(r'C:\\Users\\salah\\Desktop\\AmazonMug.csv')\n",
    "\n",
    "df"
   ]
  },
  {
   "cell_type": "code",
   "execution_count": null,
   "metadata": {},
   "outputs": [
    {
     "data": {
      "text/plain": [
       "title               object\n",
       "price              float64\n",
       "collecting_date     object\n",
       "dtype: object"
      ]
     },
     "execution_count": 54,
     "metadata": {},
     "output_type": "execute_result"
    }
   ],
   "source": [
    "df.dtypes"
   ]
  },
  {
   "cell_type": "code",
   "execution_count": null,
   "metadata": {},
   "outputs": [],
   "source": [
    "#Appending Data to the csv \n",
    "\n",
    "with open(file_path, 'a+', newline='', encoding='utf-8') as f:\n",
    "    writer = csv.writer(f)\n",
    "    writer.writerow(data)\n",
    "\n",
    "print(\"CSV file saved on the desktop.\")"
   ]
  },
  {
   "cell_type": "code",
   "execution_count": 27,
   "metadata": {},
   "outputs": [
    {
     "name": "stdout",
     "output_type": "stream",
     "text": [
      "CSV file saved on the desktop.\n"
     ]
    }
   ],
   "source": [
    "import csv\n",
    "import os\n",
    "import requests\n",
    "import datetime\n",
    "import re\n",
    "from bs4 import BeautifulSoup\n",
    "\n",
    "def Check_price():\n",
    "    # Define URL and headers\n",
    "    URL = 'https://www.amazon.ae/Trust-engineer-save-time-Mug/dp/B07N6P1XC9/ref=sr_1_1?crid=35TL7DOU0NKX9&dib=eyJ2IjoiMSJ9.jNOkticQrzVZaT1LRLvEiq4ySgEfKW7aZ5uNE2v0LIOu_QH2T6QcgSm14yzc67pODZfTaHq5meUvzzy-IBgF1MF-6bxNufpGdar10NWIndYDM0-6L6FbtT-qIYK69qe3bWuVLCmRlwXQwOWl6WaLzJlc-g2IX9HlSv-xsoarcLjYuM2BIY9_sHp9goTGZQUXLXjigWtnAs8mcrR8N7itB_F1m_mJomMr-20si0U8grgd0twmkr4GOiJEL-cqXhW1lJl5Z2bBpUKKexZHl1O9SKg_aKzDaL4jxy15RRm2bCs.8INO3lJwzDaE4FjeSmvHNu-PNJtcaD7AqPD3sMdVKA8&dib_tag=se&keywords=mug+amazon+data&qid=1709186718&sprefix=mug+amazon+data%2Caps%2C343&sr=8-1'\n",
    "    headers = {\n",
    "        \"User-Agent\": \"Mozilla/5.0 (Windows NT 10.0; Win64; x64) AppleWebKit/537.36 (KHTML, like Gecko) Chrome/78.0.3904.108 Safari/537.36\",\n",
    "        \"Accept-Encoding\": \"gzip, deflate\",\n",
    "        \"Accept\": \"text/html,application/xhtml+xml,application/xml;q=0.9,*/*;q=0.8\",\n",
    "        \"DNT\": \"1\",\n",
    "        \"Connection\": \"close\",\n",
    "        \"Upgrade-Insecure-Requests\": \"1\"\n",
    "    }\n",
    "\n",
    "    try:\n",
    "        # Send GET request to the URL\n",
    "        response = requests.get(URL, headers=headers)\n",
    "        response.raise_for_status()  # Raise an exception for any HTTP errors\n",
    "\n",
    "        # Extract HTML content\n",
    "        soup = BeautifulSoup(response.content, \"html.parser\")\n",
    "\n",
    "        # Extract title\n",
    "        title = soup.find(id='productTitle').get_text().strip()\n",
    "\n",
    "        # Extract price (numerical value only)\n",
    "        price_text = soup.find(class_='aok-offscreen').get_text().strip()\n",
    "        price = re.search(r'\\d+\\.\\d+', price_text).group()  # Extract numerical value using regular expression\n",
    "\n",
    "        # Data cleaning\n",
    "        title = title.strip()  # Remove leading and trailing whitespace\n",
    "\n",
    "        # Get current date\n",
    "        collecting_date = datetime.date.today()\n",
    "\n",
    "        # Define data to be written to CSV\n",
    "        data = [title, price, collecting_date]\n",
    "\n",
    "        # Define file path for saving the CSV file on desktop\n",
    "        desktop_path = os.path.join(os.path.expanduser('~'), 'Desktop')\n",
    "        file_path = os.path.join(desktop_path, 'AmazonMug.csv')\n",
    "\n",
    "        # Write data to the CSV file\n",
    "        with open(file_path, 'a+', newline='', encoding='utf-8') as f:\n",
    "            writer = csv.writer(f)\n",
    "            if f.tell() == 0:  # Check if file is empty (no data written yet)\n",
    "                writer.writerow(['title', 'price', 'collecting_date'])  # Write headers if file is empty\n",
    "            writer.writerow(data)\n",
    "\n",
    "        print(\"CSV file saved on the desktop.\")\n",
    "\n",
    "    except requests.exceptions.RequestException as e:\n",
    "        print(\"Failed to connect to the URL:\", e)\n",
    "\n",
    "    except AttributeError as e:\n",
    "        print(\"Failed to extract data from the HTML:\", e)\n",
    "\n",
    "# Call the function\n",
    "Check_price()\n"
   ]
  },
  {
   "cell_type": "code",
   "execution_count": null,
   "metadata": {},
   "outputs": [],
   "source": [
    "#Loop so it works in the back ground as much as I want it to \n",
    "\n",
    "while(True):\n",
    "      Check_price()\n",
    "      time.sleep(86400)#get the data from the web page every day once \n"
   ]
  },
  {
   "cell_type": "code",
   "execution_count": 35,
   "metadata": {},
   "outputs": [
    {
     "data": {
      "text/html": [
       "<div>\n",
       "<style scoped>\n",
       "    .dataframe tbody tr th:only-of-type {\n",
       "        vertical-align: middle;\n",
       "    }\n",
       "\n",
       "    .dataframe tbody tr th {\n",
       "        vertical-align: top;\n",
       "    }\n",
       "\n",
       "    .dataframe thead th {\n",
       "        text-align: right;\n",
       "    }\n",
       "</style>\n",
       "<table border=\"1\" class=\"dataframe\">\n",
       "  <thead>\n",
       "    <tr style=\"text-align: right;\">\n",
       "      <th></th>\n",
       "      <th>title</th>\n",
       "      <th>price</th>\n",
       "      <th>collecting_date</th>\n",
       "    </tr>\n",
       "  </thead>\n",
       "  <tbody>\n",
       "    <tr>\n",
       "      <th>0</th>\n",
       "      <td>Trust me I m an engineer To save time Mug</td>\n",
       "      <td>15.75</td>\n",
       "      <td>2024-03-05</td>\n",
       "    </tr>\n",
       "    <tr>\n",
       "      <th>1</th>\n",
       "      <td>Trust me I m an engineer To save time Mug</td>\n",
       "      <td>15.75</td>\n",
       "      <td>2024-03-05</td>\n",
       "    </tr>\n",
       "    <tr>\n",
       "      <th>2</th>\n",
       "      <td>Trust me I m an engineer To save time Mug</td>\n",
       "      <td>15.75</td>\n",
       "      <td>2024-03-05</td>\n",
       "    </tr>\n",
       "  </tbody>\n",
       "</table>\n",
       "</div>"
      ],
      "text/plain": [
       "                                       title  price collecting_date\n",
       "0  Trust me I m an engineer To save time Mug  15.75      2024-03-05\n",
       "1  Trust me I m an engineer To save time Mug  15.75      2024-03-05\n",
       "2  Trust me I m an engineer To save time Mug  15.75      2024-03-05"
      ]
     },
     "execution_count": 35,
     "metadata": {},
     "output_type": "execute_result"
    }
   ],
   "source": [
    " df.shape[0] # how many rows  added to the csv "
   ]
  },
  {
   "cell_type": "code",
   "execution_count": 39,
   "metadata": {},
   "outputs": [
    {
     "data": {
      "text/plain": [
       "10"
      ]
     },
     "execution_count": 39,
     "metadata": {},
     "output_type": "execute_result"
    }
   ],
   "source": [
    " df.shape[0] "
   ]
  },
  {
   "cell_type": "code",
   "execution_count": null,
   "metadata": {},
   "outputs": [],
   "source": []
  }
 ],
 "metadata": {
  "kernelspec": {
   "display_name": "Python 3",
   "language": "python",
   "name": "python3"
  },
  "language_info": {
   "codemirror_mode": {
    "name": "ipython",
    "version": 3
   },
   "file_extension": ".py",
   "mimetype": "text/x-python",
   "name": "python",
   "nbconvert_exporter": "python",
   "pygments_lexer": "ipython3",
   "version": "3.11.8"
  }
 },
 "nbformat": 4,
 "nbformat_minor": 2
}
